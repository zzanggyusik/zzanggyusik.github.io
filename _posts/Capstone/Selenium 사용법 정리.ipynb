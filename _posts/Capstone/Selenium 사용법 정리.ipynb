{
  "nbformat": 4,
  "nbformat_minor": 0,
  "metadata": {
    "colab": {
      "name": "Selenium.ipynb",
      "provenance": [],
      "collapsed_sections": [],
      "toc_visible": true
    },
    "kernelspec": {
      "name": "python3",
      "display_name": "Python 3"
    },
    "language_info": {
      "name": "python"
    }
  },
  "cells": [
    {
      "cell_type": "markdown",
      "source": [
        "아래 내용은 모두 [Gorio Learning](https://greeksharifa.github.io/references/2020/10/30/python-selenium-usage/) 블로그를 참고해서 작성했습니다."
      ],
      "metadata": {
        "id": "av6MEHeox0yT"
      }
    },
    {
      "cell_type": "markdown",
      "source": [
        "### 1.Installation Selenium"
      ],
      "metadata": {
        "id": "iJ2CU5chyR49"
      }
    },
    {
      "cell_type": "code",
      "source": [
        "!pip install Selenium\n",
        "!apt-get update"
      ],
      "metadata": {
        "colab": {
          "base_uri": "https://localhost:8080/"
        },
        "id": "WtFBA-ZByZZS",
        "outputId": "fd605455-50c1-49f7-834f-dd14804489da"
      },
      "execution_count": 1,
      "outputs": [
        {
          "output_type": "stream",
          "name": "stdout",
          "text": [
            "Collecting Selenium\n",
            "  Downloading selenium-4.1.3-py3-none-any.whl (968 kB)\n",
            "\u001b[K     |████████████████████████████████| 968 kB 6.2 MB/s \n",
            "\u001b[?25hCollecting urllib3[secure,socks]~=1.26\n",
            "  Downloading urllib3-1.26.9-py2.py3-none-any.whl (138 kB)\n",
            "\u001b[K     |████████████████████████████████| 138 kB 44.4 MB/s \n",
            "\u001b[?25hCollecting trio-websocket~=0.9\n",
            "  Downloading trio_websocket-0.9.2-py3-none-any.whl (16 kB)\n",
            "Collecting trio~=0.17\n",
            "  Downloading trio-0.20.0-py3-none-any.whl (359 kB)\n",
            "\u001b[K     |████████████████████████████████| 359 kB 48.1 MB/s \n",
            "\u001b[?25hRequirement already satisfied: attrs>=19.2.0 in /usr/local/lib/python3.7/dist-packages (from trio~=0.17->Selenium) (21.4.0)\n",
            "Requirement already satisfied: sortedcontainers in /usr/local/lib/python3.7/dist-packages (from trio~=0.17->Selenium) (2.4.0)\n",
            "Collecting sniffio\n",
            "  Downloading sniffio-1.2.0-py3-none-any.whl (10 kB)\n",
            "Collecting async-generator>=1.9\n",
            "  Downloading async_generator-1.10-py3-none-any.whl (18 kB)\n",
            "Collecting outcome\n",
            "  Downloading outcome-1.1.0-py2.py3-none-any.whl (9.7 kB)\n",
            "Requirement already satisfied: idna in /usr/local/lib/python3.7/dist-packages (from trio~=0.17->Selenium) (2.10)\n",
            "Collecting wsproto>=0.14\n",
            "  Downloading wsproto-1.1.0-py3-none-any.whl (24 kB)\n",
            "Requirement already satisfied: PySocks!=1.5.7,<2.0,>=1.5.6 in /usr/local/lib/python3.7/dist-packages (from urllib3[secure,socks]~=1.26->Selenium) (1.7.1)\n",
            "Requirement already satisfied: certifi in /usr/local/lib/python3.7/dist-packages (from urllib3[secure,socks]~=1.26->Selenium) (2021.10.8)\n",
            "Collecting pyOpenSSL>=0.14\n",
            "  Downloading pyOpenSSL-22.0.0-py2.py3-none-any.whl (55 kB)\n",
            "\u001b[K     |████████████████████████████████| 55 kB 2.5 MB/s \n",
            "\u001b[?25hCollecting cryptography>=1.3.4\n",
            "  Downloading cryptography-36.0.2-cp36-abi3-manylinux_2_24_x86_64.whl (3.6 MB)\n",
            "\u001b[K     |████████████████████████████████| 3.6 MB 40.8 MB/s \n",
            "\u001b[?25hRequirement already satisfied: cffi>=1.12 in /usr/local/lib/python3.7/dist-packages (from cryptography>=1.3.4->urllib3[secure,socks]~=1.26->Selenium) (1.15.0)\n",
            "Requirement already satisfied: pycparser in /usr/local/lib/python3.7/dist-packages (from cffi>=1.12->cryptography>=1.3.4->urllib3[secure,socks]~=1.26->Selenium) (2.21)\n",
            "Collecting h11<1,>=0.9.0\n",
            "  Downloading h11-0.13.0-py3-none-any.whl (58 kB)\n",
            "\u001b[K     |████████████████████████████████| 58 kB 3.8 MB/s \n",
            "\u001b[?25hRequirement already satisfied: typing-extensions in /usr/local/lib/python3.7/dist-packages (from h11<1,>=0.9.0->wsproto>=0.14->trio-websocket~=0.9->Selenium) (3.10.0.2)\n",
            "Installing collected packages: sniffio, outcome, h11, cryptography, async-generator, wsproto, urllib3, trio, pyOpenSSL, trio-websocket, Selenium\n",
            "  Attempting uninstall: urllib3\n",
            "    Found existing installation: urllib3 1.24.3\n",
            "    Uninstalling urllib3-1.24.3:\n",
            "      Successfully uninstalled urllib3-1.24.3\n",
            "\u001b[31mERROR: pip's dependency resolver does not currently take into account all the packages that are installed. This behaviour is the source of the following dependency conflicts.\n",
            "requests 2.23.0 requires urllib3!=1.25.0,!=1.25.1,<1.26,>=1.21.1, but you have urllib3 1.26.9 which is incompatible.\n",
            "datascience 0.10.6 requires folium==0.2.1, but you have folium 0.8.3 which is incompatible.\u001b[0m\n",
            "Successfully installed Selenium-4.1.3 async-generator-1.10 cryptography-36.0.2 h11-0.13.0 outcome-1.1.0 pyOpenSSL-22.0.0 sniffio-1.2.0 trio-0.20.0 trio-websocket-0.9.2 urllib3-1.26.9 wsproto-1.1.0\n",
            "Get:1 https://cloud.r-project.org/bin/linux/ubuntu bionic-cran40/ InRelease [3,626 B]\n",
            "Ign:2 https://developer.download.nvidia.com/compute/cuda/repos/ubuntu1804/x86_64  InRelease\n",
            "Get:3 https://cloud.r-project.org/bin/linux/ubuntu bionic-cran40/ Packages [80.4 kB]\n",
            "Ign:4 https://developer.download.nvidia.com/compute/machine-learning/repos/ubuntu1804/x86_64  InRelease\n",
            "Get:5 https://developer.download.nvidia.com/compute/cuda/repos/ubuntu1804/x86_64  Release [696 B]\n",
            "Get:6 http://security.ubuntu.com/ubuntu bionic-security InRelease [88.7 kB]\n",
            "Hit:7 https://developer.download.nvidia.com/compute/machine-learning/repos/ubuntu1804/x86_64  Release\n",
            "Get:8 http://ppa.launchpad.net/c2d4u.team/c2d4u4.0+/ubuntu bionic InRelease [15.9 kB]\n",
            "Get:9 https://developer.download.nvidia.com/compute/cuda/repos/ubuntu1804/x86_64  Release.gpg [836 B]\n",
            "Hit:11 http://archive.ubuntu.com/ubuntu bionic InRelease\n",
            "Get:12 https://developer.download.nvidia.com/compute/cuda/repos/ubuntu1804/x86_64  Packages [931 kB]\n",
            "Get:13 http://archive.ubuntu.com/ubuntu bionic-updates InRelease [88.7 kB]\n",
            "Hit:14 http://ppa.launchpad.net/cran/libgit2/ubuntu bionic InRelease\n",
            "Get:15 http://ppa.launchpad.net/deadsnakes/ppa/ubuntu bionic InRelease [15.9 kB]\n",
            "Get:16 http://archive.ubuntu.com/ubuntu bionic-backports InRelease [74.6 kB]\n",
            "Get:17 http://security.ubuntu.com/ubuntu bionic-security/universe amd64 Packages [1,479 kB]\n",
            "Hit:18 http://ppa.launchpad.net/graphics-drivers/ppa/ubuntu bionic InRelease\n",
            "Get:19 http://archive.ubuntu.com/ubuntu bionic-updates/main amd64 Packages [3,067 kB]\n",
            "Get:20 http://ppa.launchpad.net/c2d4u.team/c2d4u4.0+/ubuntu bionic/main Sources [1,827 kB]\n",
            "Get:21 http://security.ubuntu.com/ubuntu bionic-security/main amd64 Packages [2,628 kB]\n",
            "Get:22 http://archive.ubuntu.com/ubuntu bionic-updates/universe amd64 Packages [2,257 kB]\n",
            "Get:23 http://ppa.launchpad.net/c2d4u.team/c2d4u4.0+/ubuntu bionic/main amd64 Packages [936 kB]\n",
            "Get:24 http://ppa.launchpad.net/deadsnakes/ppa/ubuntu bionic/main amd64 Packages [45.2 kB]\n",
            "Fetched 13.5 MB in 7s (1,894 kB/s)\n",
            "Reading package lists... Done\n"
          ]
        }
      ]
    },
    {
      "cell_type": "markdown",
      "source": [
        "##### 웹 드라이버 설치\n",
        "\n",
        "- Google Chrome\n",
        "- Microsoft Edge\n",
        "- Apple Safari\n",
        "- Firefox\n",
        "\n",
        "나는 위 네 가지 중 구글 크롬을 이용했다."
      ],
      "metadata": {
        "id": "W7bgNo4nyazC"
      }
    },
    {
      "cell_type": "code",
      "source": [
        "!apt install chromium-chromedriver\n",
        "!cp /usr/lib/chromium-browser/chromedriver /usr/bin"
      ],
      "metadata": {
        "colab": {
          "base_uri": "https://localhost:8080/"
        },
        "id": "yhvdMe9kyjyw",
        "outputId": "cae5f251-0b52-4d44-e105-276113dc7dad"
      },
      "execution_count": 2,
      "outputs": [
        {
          "output_type": "stream",
          "name": "stdout",
          "text": [
            "Reading package lists... Done\n",
            "Building dependency tree       \n",
            "Reading state information... Done\n",
            "The following additional packages will be installed:\n",
            "  chromium-browser chromium-browser-l10n chromium-codecs-ffmpeg-extra\n",
            "Suggested packages:\n",
            "  webaccounts-chromium-extension unity-chromium-extension\n",
            "The following NEW packages will be installed:\n",
            "  chromium-browser chromium-browser-l10n chromium-chromedriver\n",
            "  chromium-codecs-ffmpeg-extra\n",
            "0 upgraded, 4 newly installed, 0 to remove and 63 not upgraded.\n",
            "Need to get 88.3 MB of archives.\n",
            "After this operation, 294 MB of additional disk space will be used.\n",
            "Get:1 http://archive.ubuntu.com/ubuntu bionic-updates/universe amd64 chromium-codecs-ffmpeg-extra amd64 99.0.4844.51-0ubuntu0.18.04.1 [1,143 kB]\n",
            "Get:2 http://archive.ubuntu.com/ubuntu bionic-updates/universe amd64 chromium-browser amd64 99.0.4844.51-0ubuntu0.18.04.1 [77.6 MB]\n",
            "Get:3 http://archive.ubuntu.com/ubuntu bionic-updates/universe amd64 chromium-browser-l10n all 99.0.4844.51-0ubuntu0.18.04.1 [4,388 kB]\n",
            "Get:4 http://archive.ubuntu.com/ubuntu bionic-updates/universe amd64 chromium-chromedriver amd64 99.0.4844.51-0ubuntu0.18.04.1 [5,092 kB]\n",
            "Fetched 88.3 MB in 10s (9,235 kB/s)\n",
            "Selecting previously unselected package chromium-codecs-ffmpeg-extra.\n",
            "(Reading database ... 155335 files and directories currently installed.)\n",
            "Preparing to unpack .../chromium-codecs-ffmpeg-extra_99.0.4844.51-0ubuntu0.18.04.1_amd64.deb ...\n",
            "Unpacking chromium-codecs-ffmpeg-extra (99.0.4844.51-0ubuntu0.18.04.1) ...\n",
            "Selecting previously unselected package chromium-browser.\n",
            "Preparing to unpack .../chromium-browser_99.0.4844.51-0ubuntu0.18.04.1_amd64.deb ...\n",
            "Unpacking chromium-browser (99.0.4844.51-0ubuntu0.18.04.1) ...\n",
            "Selecting previously unselected package chromium-browser-l10n.\n",
            "Preparing to unpack .../chromium-browser-l10n_99.0.4844.51-0ubuntu0.18.04.1_all.deb ...\n",
            "Unpacking chromium-browser-l10n (99.0.4844.51-0ubuntu0.18.04.1) ...\n",
            "Selecting previously unselected package chromium-chromedriver.\n",
            "Preparing to unpack .../chromium-chromedriver_99.0.4844.51-0ubuntu0.18.04.1_amd64.deb ...\n",
            "Unpacking chromium-chromedriver (99.0.4844.51-0ubuntu0.18.04.1) ...\n",
            "Setting up chromium-codecs-ffmpeg-extra (99.0.4844.51-0ubuntu0.18.04.1) ...\n",
            "Setting up chromium-browser (99.0.4844.51-0ubuntu0.18.04.1) ...\n",
            "update-alternatives: using /usr/bin/chromium-browser to provide /usr/bin/x-www-browser (x-www-browser) in auto mode\n",
            "update-alternatives: using /usr/bin/chromium-browser to provide /usr/bin/gnome-www-browser (gnome-www-browser) in auto mode\n",
            "Setting up chromium-chromedriver (99.0.4844.51-0ubuntu0.18.04.1) ...\n",
            "Setting up chromium-browser-l10n (99.0.4844.51-0ubuntu0.18.04.1) ...\n",
            "Processing triggers for man-db (2.8.3-2ubuntu0.1) ...\n",
            "Processing triggers for hicolor-icon-theme (0.17-2) ...\n",
            "Processing triggers for mime-support (3.60ubuntu1) ...\n",
            "Processing triggers for libc-bin (2.27-3ubuntu1.3) ...\n",
            "/sbin/ldconfig.real: /usr/local/lib/python3.7/dist-packages/ideep4py/lib/libmkldnn.so.0 is not a symbolic link\n",
            "\n",
            "cp: '/usr/lib/chromium-browser/chromedriver' and '/usr/bin/chromedriver' are the same file\n"
          ]
        }
      ]
    },
    {
      "cell_type": "markdown",
      "source": [
        "##### 웹 드라이버 설정\n",
        "Selenium은 실행시 브라우저가 켜지는데, 나는 클라우드 환경(Colab)에서 실행하기 때문에 브라우저를 띄우지 않도록 설정해주었다."
      ],
      "metadata": {
        "id": "kSw5ptjAyvbF"
      }
    },
    {
      "cell_type": "code",
      "source": [
        "from selenium import webdriver\n",
        "\n",
        "chrome_options = webdriver.ChromeOptions()\n",
        "\n",
        "chrome_options.add_argument('--headless')\n",
        "chrome_options.add_argument('--no-sandbox')\n",
        "chrome_options.add_argument('--disable-dev-shm-usage')"
      ],
      "metadata": {
        "id": "ULDkcOLPytSv"
      },
      "execution_count": 3,
      "outputs": []
    },
    {
      "cell_type": "markdown",
      "source": [
        "### 1-1.WebDriver Option (Chrome)\n",
        "\n",
        "위에서 브라우저가 열리지 않도록 설정해주었는데(Headless 설정) 이 밖에도 브라우저의 창 크기, 해당 기기의 정보 등을 설정할 수 있다."
      ],
      "metadata": {
        "id": "7D8Hkw2Fu-_1"
      }
    },
    {
      "cell_type": "code",
      "source": [
        "options = webdriver.ChromeOptions()\n",
        "\n",
        "options.add_argument('headless')\n",
        "options.add_argument('window-size=1920x1080')\n",
        "options.add_argument('disable-gpu')\n",
        "\n",
        "options.add_argument('start-maximized')\n",
        "options.add_argument('disable-infobars')\n",
        "options.add_argument('--disable-extensions')\n",
        "\n",
        "options.add_experimental_option('excludeSwitches', ['enable-automation'])\n",
        "options.add_experimental_option('useAutomationExtension', False)\n",
        "options.add_argument('--disable-blink-features=AutomationControlled')\n",
        "\n",
        "options.add_experimental_option('debuggerAddress', '127.0.0.1:9222')"
      ],
      "metadata": {
        "id": "f-r9NxP4vITK"
      },
      "execution_count": null,
      "outputs": []
    },
    {
      "cell_type": "markdown",
      "source": [
        "### 2.URL Load"
      ],
      "metadata": {
        "id": "wyhjZNMWy5_H"
      }
    },
    {
      "cell_type": "code",
      "source": [
        "driver = webdriver.Chrome('chromedriver', options=chrome_options)  # 웹 드라이버 로드\n",
        "url = 'https://www.google.com/'\n",
        "driver.get(url)"
      ],
      "metadata": {
        "id": "Oc9hZI0mzRqo"
      },
      "execution_count": 4,
      "outputs": []
    },
    {
      "cell_type": "markdown",
      "source": [
        "##### 현재 url 얻기"
      ],
      "metadata": {
        "id": "IJ2QUWWKzcJL"
      }
    },
    {
      "cell_type": "code",
      "source": [
        "print(driver.current_url)"
      ],
      "metadata": {
        "colab": {
          "base_uri": "https://localhost:8080/"
        },
        "id": "mgD_EVWuzlYu",
        "outputId": "b75a2b16-b7db-47fc-c67b-0068d484a58e"
      },
      "execution_count": 5,
      "outputs": [
        {
          "output_type": "stream",
          "name": "stdout",
          "text": [
            "https://www.google.com/\n"
          ]
        }
      ]
    },
    {
      "cell_type": "markdown",
      "source": [
        "##### 브라우저 닫기"
      ],
      "metadata": {
        "id": "4qQCm5iWzsQr"
      }
    },
    {
      "cell_type": "code",
      "source": [
        "driver.close()"
      ],
      "metadata": {
        "id": "FKx4PdV3zpoB"
      },
      "execution_count": null,
      "outputs": []
    },
    {
      "cell_type": "markdown",
      "source": [
        "### 3.[Wait till Load Webpage](https://selenium-python.readthedocs.io/waits.html)\n",
        "브라우저에서 웹 페이지를 로드하는데 시간이 걸린다. 따라서 모든 요소가 전부 준비될 때까지 기다려야 한다."
      ],
      "metadata": {
        "id": "ABwrC6XvzuvW"
      }
    },
    {
      "cell_type": "markdown",
      "source": [
        "time.sleep(secs) 함수를 사용해 무조건 몇 초간 대기한다. 편리하긴 하지만 지양하도록 하자."
      ],
      "metadata": {
        "id": "v-m7L6Ky2_-F"
      }
    },
    {
      "cell_type": "code",
      "source": [
        "import time\n",
        "\n",
        "time.sleep(1)"
      ],
      "metadata": {
        "id": "wJjj7FVU0v7C"
      },
      "execution_count": 6,
      "outputs": []
    },
    {
      "cell_type": "markdown",
      "source": [
        "##### Implicit Waits (암묵적 대기)\n",
        "웹 드라이버에 영구적으로 작용하며 요소가 로드될 때까지 지정한 시간만큼 대기한다. 단위는 초이며, default 값은 0이다."
      ],
      "metadata": {
        "id": "35Ev59ADz8Cq"
      }
    },
    {
      "cell_type": "code",
      "source": [
        "driver.implicitly_wait(time_to_wait=5)"
      ],
      "metadata": {
        "id": "PDhy6Pl50EkB"
      },
      "execution_count": null,
      "outputs": []
    },
    {
      "cell_type": "markdown",
      "source": [
        "##### Explicit Waits (명시적 대기)"
      ],
      "metadata": {
        "id": "6d3yUtPm0HEW"
      }
    },
    {
      "cell_type": "markdown",
      "source": [
        "아래 코드는 로드한 최대 5초동안 로드한 웹 페이지에서 gLFyf인 element를 찾을 수 있는지 0.5초마다 시도한다.\n",
        "EC(expected_conditions)가 만약 element를 찾으면 True를 그렇지 않으면 False를 반환한다."
      ],
      "metadata": {
        "id": "zZaPEJso1VQQ"
      }
    },
    {
      "cell_type": "code",
      "source": [
        "from selenium.webdriver.common.by import By\n",
        "from selenium.webdriver.support.ui import WebDriverWait\n",
        "from selenium.webdriver.support import expected_conditions as EC\n",
        "\n",
        "driver = webdriver.Chrome('chromedriver', options=chrome_options)\n",
        "driver.get(url='https://www.google.com/')\n",
        "try:\n",
        "    element = WebDriverWait(driver, 5).until(\n",
        "        EC.presence_of_element_located((By.CLASS_NAME , 'gLFyf'))\n",
        "    )\n",
        "finally:\n",
        "    driver.quit()"
      ],
      "metadata": {
        "id": "GLnxVf5_1B9j"
      },
      "execution_count": 7,
      "outputs": []
    },
    {
      "cell_type": "markdown",
      "source": [
        "until(method, message=' ') 함수는 method 반환값이 False인 동안 계속 method를 실행하고 <br>\n",
        "until_not(method, message=' ') 함수는 True인 동안 실행한다."
      ],
      "metadata": {
        "id": "8pRwq8lS32Hz"
      }
    },
    {
      "cell_type": "markdown",
      "source": [
        "element 외에도 다양한 조건을 사용할 수 있다. <br>\n",
        "\n",
        "제목이 어떤 문자열인지, 어떤 문자열을 포함하는지, 특정 또는 모든 요소가 로드되었거나, 볼 수 있거나, 볼 수 없거나, 클릭 가능하거나 등등\n",
        "\n",
        "- title_is\n",
        "- title_contains\n",
        "- presence_of_element_located\n",
        "- visibility_of_element_located\n",
        "- visibility_of\n",
        "- presence_of_all_elements_located\n",
        "- text_to_be_present_in_element\n",
        "- text_to_be_present_in_element_value\n",
        "- frame_to_be_available_and_switch_to_it\n",
        "- invisibility_of_element_located\n",
        "- element_to_be_clickable\n",
        "- staleness_of\n",
        "- element_to_be_selected\n",
        "- element_located_to_be_selected\n",
        "- element_selection_state_to_be\n",
        "- element_located_selection_state_to_be\n",
        "- alert_is_present"
      ],
      "metadata": {
        "id": "E2vo-kUH1NX-"
      }
    },
    {
      "cell_type": "markdown",
      "source": [
        "##### Custom Wait Conditions (커스텀 대기)\n",
        "custom으로 대기 조건을 설정하는 것도 가능하다. __init__ 함수와 __call__ 함수를 구현한 클래스를 작성하면 된다."
      ],
      "metadata": {
        "id": "xgidn7792L55"
      }
    },
    {
      "cell_type": "code",
      "source": [
        "class element_has_css_class(object):\n",
        "  \"\"\"An expectation for checking that an element has a particular css class.\n",
        "\n",
        "  locator - used to find the element\n",
        "  returns the WebElement once it has the particular css class\n",
        "  \"\"\"\n",
        "  def __init__(self, locator, css_class):\n",
        "    self.locator = locator\n",
        "    self.css_class = css_class\n",
        "\n",
        "  def __call__(self, driver):\n",
        "    element = driver.find_element(*self.locator)   # Finding the referenced element\n",
        "    if self.css_class in element.get_attribute(\"class\"):\n",
        "        return element\n",
        "    else:\n",
        "        return False\n",
        "\n",
        "# Wait until an element with id='myNewInput' has class 'myCSSClass'\n",
        "wait = WebDriverWait(driver, 10)\n",
        "element = wait.until(element_has_css_class((By.ID, 'myNewInput'), \"myCSSClass\"))"
      ],
      "metadata": {
        "id": "qcTH_9Xw3QIq"
      },
      "execution_count": null,
      "outputs": []
    },
    {
      "cell_type": "markdown",
      "source": [
        "### 4.Locating Elemnts"
      ],
      "metadata": {
        "id": "SN-EE7f73i3J"
      }
    },
    {
      "cell_type": "markdown",
      "source": [
        "크롤링을 하기 위해서는 해당 웹 페이지가 어떤 요소들로 구성돼 있는지 알아야 한다. <br>\n",
        "요소를 확인하기 위해선 command + option + i 키로 개발자 도구를 켠다.\n",
        "\n",
        "<img width=\"1624\" alt=\"스크린샷 2022-03-17 오후 9 56 17\" src=\"https://user-images.githubusercontent.com/76269316/158813085-981ed0d7-2bbb-4ce7-9eb8-d6bfc1918d8b.png\">\n"
      ],
      "metadata": {
        "id": "3s9WTDio5d7A"
      }
    },
    {
      "cell_type": "markdown",
      "source": [
        "왼쪽 위의 <img width=\"33\" alt=\"스크린샷 2022-03-17 오후 9 45 43\" src=\"https://user-images.githubusercontent.com/76269316/158811223-e18be2fb-9c16-4a5a-8eb3-a11ade995716.png\">\n",
        " 버튼을 누르고 웹 페이지의 요소를 클릭하면 해당 코드 부분으로 이동한다.\n",
        "\n",
        " <img width=\"1624\" alt=\"스크린샷 2022-03-17 오후 9 56 59\" src=\"https://user-images.githubusercontent.com/76269316/158813196-98875d71-5ad9-4fd9-a5ce-9ad30f634f32.png\">\n"
      ],
      "metadata": {
        "id": "nG8BSbsS6SE4"
      }
    },
    {
      "cell_type": "markdown",
      "source": [
        "Selenium에서도 요소를 찾는 함수를 지원한다. <br>\n",
        "함수가 업데이트 돼서 아래와 같이 작성할 것을 권장한다. 자세한 것은 [여기](https://goodthings4me.tistory.com/567)를 참조 <br>\n",
        "\n",
        "- find_element는 조건에 맞는 요소 하나를 반환 <br>\n",
        "- find_elements는 조건을 만족하는 모든 요소를 iterable 형태로 반환"
      ],
      "metadata": {
        "id": "vqhSePY56uYq"
      }
    },
    {
      "cell_type": "code",
      "source": [
        "# 위에서 드라이버를 종료시켜서 다시 로드해줬다.\n",
        "driver = webdriver.Chrome('chromedriver', options=chrome_options)  # 웹 드라이버 로드\n",
        "url = 'https://www.google.com/'\n",
        "driver.get(url)"
      ],
      "metadata": {
        "id": "OsKzreiPyiC5"
      },
      "execution_count": 8,
      "outputs": []
    },
    {
      "cell_type": "code",
      "source": [
        "search_box = driver.find_element(By.CLASS_NAME, 'gLFyf')"
      ],
      "metadata": {
        "id": "NBQaRrC68GOQ"
      },
      "execution_count": 9,
      "outputs": []
    },
    {
      "cell_type": "markdown",
      "source": [
        "- By.CLASS_NAME\n",
        "- By.ID\n",
        "- By.NAME\n",
        "- By.LINK_TEXT\n",
        "- By.PARTIAL_LINK_TEXT\n",
        "- By.TAG_NAME\n",
        "- By.CSS_SELECTOR\n",
        "- By.XPATH"
      ],
      "metadata": {
        "id": "ouskLOCHWt-f"
      }
    },
    {
      "cell_type": "markdown",
      "source": [
        "```\n",
        "<html>\n",
        " <body>\n",
        "  <p>Are you sure you want to do this?</p>\n",
        "  <a href=\"continue.html\">Continue</a>\n",
        "  <a href=\"cancel.html\">Cancel</a>\n",
        "  <p class=\"content\">Site content goes here.</p>\n",
        "</body>\n",
        "<html>\n",
        "```"
      ],
      "metadata": {
        "id": "FQLqG9Ne9IYi"
      }
    },
    {
      "cell_type": "markdown",
      "source": [
        "By.LINK_TEXT는 \\<a> tag의 링크를 대상으로 찾는다. <br>\n",
        "By.PARTIAL_LINK_TEXT는 요소의 링크가 전달한 링크를 일부분 포함하면 해당 요소가 선택된다.\n",
        "\n",
        "```\n",
        "continue_link = driver.find_element(By.LINK_TEXT, 'Continue')\n",
        "continue_link = driver.find_element(By.PARTIAL_LINK_TEXT, \n",
        "'Conti')\n",
        "content = driver.find_element(By.CSS_SELECTOR, 'p.content')\n",
        "```"
      ],
      "metadata": {
        "id": "QeR6cvZxW_vr"
      }
    },
    {
      "cell_type": "markdown",
      "source": [
        "By.XPATH는 매우 강력한 찾기 기능을 제공한다. <br>\n",
        "웹 페이지 상에서 해당 요소의 절대 경로 (혹은 상대 경로)를 갖고 요소를 찾을 수 있다. <br><br>\n",
        "**원하는 요소에서 Copy Xpath만 하는 방식으로도 찾을 수 있다.** <br>\n",
        "\n",
        "<img width=\"604\" alt=\"스크린샷 2022-03-17 오후 11 59 27\" src=\"https://user-images.githubusercontent.com/76269316/158831953-d7f3296a-e4ec-4446-b54d-a0799f8ddf9b.png\">"
      ],
      "metadata": {
        "id": "A9Cy1avJWg5Y"
      }
    },
    {
      "cell_type": "markdown",
      "source": [
        "아래 코드는 구글의 검색창을 XPATH 복사를 통해 선택한 코드이다."
      ],
      "metadata": {
        "id": "HVInomcIaAQi"
      }
    },
    {
      "cell_type": "code",
      "source": [
        "search_box = driver.find_element(By.XPATH, '/html/body/div[1]/div[3]/form/div[1]/div[1]/div[1]/div/div[2]/input')"
      ],
      "metadata": {
        "id": "DhuC6oxYYRmH"
      },
      "execution_count": 10,
      "outputs": []
    },
    {
      "cell_type": "markdown",
      "source": [
        "XPATH 작성법은 [링크](https://greeksharifa.github.io/references/2020/10/30/python-selenium-usage/) 참조 <br>\n",
        "\n",
        "![스크린샷 2022-03-18 오전 12 02 11](https://user-images.githubusercontent.com/76269316/158832291-7982f1f0-f3a2-4d2c-a330-edc48d6dcd84.png)\n"
      ],
      "metadata": {
        "id": "gS2OMkKfZRau"
      }
    },
    {
      "cell_type": "markdown",
      "source": [
        "### 5.Text Input"
      ],
      "metadata": {
        "id": "LsRQiOkcZxLt"
      }
    },
    {
      "cell_type": "markdown",
      "source": [
        "구글 검색 창을 선택한 상태에서 send_keys(*value) 함수를 통해 키보드 입력을 할 수 있다. <br>"
      ],
      "metadata": {
        "id": "vRUKO5DEaG0U"
      }
    },
    {
      "cell_type": "code",
      "source": [
        "search_box = driver.find_element(By.XPATH, '/html/body/div[1]/div[3]/form/div[1]/div[1]/div[1]/div/div[2]/input')"
      ],
      "metadata": {
        "id": "-tiG_4FzZ45A"
      },
      "execution_count": 11,
      "outputs": []
    },
    {
      "cell_type": "code",
      "source": [
        "search_box.send_keys('seominseok4834.github.io')"
      ],
      "metadata": {
        "id": "i9FtUwJQZ9p9"
      },
      "execution_count": 12,
      "outputs": []
    },
    {
      "cell_type": "markdown",
      "source": [
        "send_keys()는 인자값으로 문자열을 받는다. enter 같은 특수 키 입력도 (RETURN = '\\ue006')과 같이 문자열로 처리할 수도 있지만 다음과 같이 입력할 수 있다. <br>\n",
        "경우에 따라 다르지만 enter 키의 경우 Keys.ENTER 또는 Keys.RETURN으로 입력할 수 있다."
      ],
      "metadata": {
        "id": "LB1ykrB4aP1W"
      }
    },
    {
      "cell_type": "code",
      "source": [
        "from selenium.webdriver.common.keys import Keys\n",
        "\n",
        "search_box.send_keys(Keys.RETURN)"
      ],
      "metadata": {
        "id": "HPcfdFdvatru"
      },
      "execution_count": 13,
      "outputs": []
    },
    {
      "cell_type": "markdown",
      "source": [
        "아래는 입력할 수 있는 Keys의 목록이다."
      ],
      "metadata": {
        "id": "KbWsz1FZavEN"
      }
    },
    {
      "cell_type": "markdown",
      "source": [
        "```\n",
        "class Keys(object):\n",
        "    \"\"\"\n",
        "    Set of special keys codes.\n",
        "    \"\"\"\n",
        "\n",
        "    NULL = '\\ue000'\n",
        "    CANCEL = '\\ue001'  # ^break\n",
        "    HELP = '\\ue002'\n",
        "    BACKSPACE = '\\ue003'\n",
        "    BACK_SPACE = BACKSPACE\n",
        "    TAB = '\\ue004'\n",
        "    CLEAR = '\\ue005'\n",
        "    RETURN = '\\ue006'\n",
        "    ENTER = '\\ue007'\n",
        "    SHIFT = '\\ue008'\n",
        "    LEFT_SHIFT = SHIFT\n",
        "    CONTROL = '\\ue009'\n",
        "    LEFT_CONTROL = CONTROL\n",
        "    ALT = '\\ue00a'\n",
        "    LEFT_ALT = ALT\n",
        "    PAUSE = '\\ue00b'\n",
        "    ESCAPE = '\\ue00c'\n",
        "    SPACE = '\\ue00d'\n",
        "    PAGE_UP = '\\ue00e'\n",
        "    PAGE_DOWN = '\\ue00f'\n",
        "    END = '\\ue010'\n",
        "    HOME = '\\ue011'\n",
        "    LEFT = '\\ue012'\n",
        "    ARROW_LEFT = LEFT\n",
        "    UP = '\\ue013'\n",
        "    ARROW_UP = UP\n",
        "    RIGHT = '\\ue014'\n",
        "    ARROW_RIGHT = RIGHT\n",
        "    DOWN = '\\ue015'\n",
        "    ARROW_DOWN = DOWN\n",
        "    INSERT = '\\ue016'\n",
        "    DELETE = '\\ue017'\n",
        "    SEMICOLON = '\\ue018'\n",
        "    EQUALS = '\\ue019'\n",
        "\n",
        "    NUMPAD0 = '\\ue01a'  # number pad keys\n",
        "    NUMPAD1 = '\\ue01b'\n",
        "    NUMPAD2 = '\\ue01c'\n",
        "    NUMPAD3 = '\\ue01d'\n",
        "    NUMPAD4 = '\\ue01e'\n",
        "    NUMPAD5 = '\\ue01f'\n",
        "    NUMPAD6 = '\\ue020'\n",
        "    NUMPAD7 = '\\ue021'\n",
        "    NUMPAD8 = '\\ue022'\n",
        "    NUMPAD9 = '\\ue023'\n",
        "    MULTIPLY = '\\ue024'\n",
        "    ADD = '\\ue025'\n",
        "    SEPARATOR = '\\ue026'\n",
        "    SUBTRACT = '\\ue027'\n",
        "    DECIMAL = '\\ue028'\n",
        "    DIVIDE = '\\ue029'\n",
        "\n",
        "    F1 = '\\ue031'  # function  keys\n",
        "    F2 = '\\ue032'\n",
        "    F3 = '\\ue033'\n",
        "    F4 = '\\ue034'\n",
        "    F5 = '\\ue035'\n",
        "    F6 = '\\ue036'\n",
        "    F7 = '\\ue037'\n",
        "    F8 = '\\ue038'\n",
        "    F9 = '\\ue039'\n",
        "    F10 = '\\ue03a'\n",
        "    F11 = '\\ue03b'\n",
        "    F12 = '\\ue03c'\n",
        "\n",
        "    META = '\\ue03d'\n",
        "    COMMAND = '\\ue03d'\n",
        "```"
      ],
      "metadata": {
        "id": "1zQaK4pvbBLJ"
      }
    },
    {
      "cell_type": "markdown",
      "source": [
        "### 6.Text Clear"
      ],
      "metadata": {
        "id": "MYHFRuAJbFjt"
      }
    },
    {
      "cell_type": "markdown",
      "source": [
        "입력한 텍스트를 지우는 방법은 Keys.BACKSPACE 또는 Keys.BACK_SPACE를 사용하면 된다. <br>\n",
        "만약 전체를 지우고 싶다면 선택한 요소에서 clear() 함수를 호출하면 된다."
      ],
      "metadata": {
        "id": "yCiC27c_bOF-"
      }
    },
    {
      "cell_type": "code",
      "source": [
        "search_box.clear()"
      ],
      "metadata": {
        "id": "3PvXvPnQbZdM"
      },
      "execution_count": null,
      "outputs": []
    },
    {
      "cell_type": "markdown",
      "source": [
        "### 7.File Upload\n",
        "파일을 받는 input을 선택한 뒤, send_keys(file_path)를 호출하면 된다."
      ],
      "metadata": {
        "id": "C_UnolmobbWM"
      }
    },
    {
      "cell_type": "code",
      "source": [
        "upload = driver.find_element_by_tag(input)\n",
        "upload.send_keys(file_path)"
      ],
      "metadata": {
        "id": "4H1ju6O-bqeK"
      },
      "execution_count": null,
      "outputs": []
    },
    {
      "cell_type": "markdown",
      "source": [
        "### 8.Interaction"
      ],
      "metadata": {
        "id": "ZWK-wZ48b55r"
      }
    },
    {
      "cell_type": "markdown",
      "source": [
        "##### Click"
      ],
      "metadata": {
        "id": "Wy-nyCCGb87p"
      }
    },
    {
      "cell_type": "markdown",
      "source": [
        "find_element 함수로 요소를 선택한 다음 click() 함수를 호출하면 해당 요소가 클릭된다."
      ],
      "metadata": {
        "id": "mcr0eSWLkhDc"
      }
    },
    {
      "cell_type": "code",
      "source": [
        "# 위에서 엔터키를 입력해 검색 결과 페이지로 넘어가 버려서 다시 검색 페이지를 다시 로드해줬다.\n",
        "url = 'https://www.google.com/'\n",
        "driver.get(url)"
      ],
      "metadata": {
        "id": "gb5RYBlUzqxc"
      },
      "execution_count": 14,
      "outputs": []
    },
    {
      "cell_type": "code",
      "source": [
        "# 마찬가지로 다시 search_box를 찾아 내 블로그 주소를 입력해줬다.\n",
        "search_box = driver.find_element(By.XPATH, '/html/body/div[1]/div[3]/form/div[1]/div[1]/div[1]/div/div[2]/input')\n",
        "search_box.send_keys('seominseok4834.github.io')\n",
        "\n",
        "search_box.send_keys(Keys.RETURN)"
      ],
      "metadata": {
        "id": "1fCJYMB-kZFb"
      },
      "execution_count": 15,
      "outputs": []
    },
    {
      "cell_type": "markdown",
      "source": [
        "위 코드를 실행하면 다음과 같은 페이지에 있을 것이다.\n",
        "\n",
        "<img width=\"1624\" alt=\"스크린샷 2022-03-18 오전 10 11 00\" src=\"https://user-images.githubusercontent.com/76269316/158918530-cefcabab-3314-4003-b7b8-49d9c70d9886.png\">\n",
        "\n",
        "여기서 <img width=\"615\" alt=\"스크린샷 2022-03-18 오전 10 11 56\" src=\"https://user-images.githubusercontent.com/76269316/158918623-3974bc24-dd4f-4655-ad95-af54f12639d7.png\">\n",
        "이 부분을 클릭할 것이다. <br>\n",
        "\n",
        "command + option + i를 눌러 개발자 모드로 들어간 다음 왼쪽 위의 <img width=\"33\" alt=\"스크린샷 2022-03-17 오후 9 45 43\" src=\"https://user-images.githubusercontent.com/76269316/158811223-e18be2fb-9c16-4a5a-8eb3-a11ade995716.png\">\n",
        " 버튼을 누르고 웹 페이지의 요소를 클릭하면 해당 코드 부분으로 이동한다.\n",
        "\n",
        " ![스크린샷 2022-03-18 오전 10 13 39](https://user-images.githubusercontent.com/76269316/158918800-9678813c-8d65-4945-a8e6-c0dd6b24404f.png)\n",
        "\n",
        "그런 다음 복사 -> XPath 복사를 클릭해 복사한다. <br>\n",
        "\n",
        "복사한 뒤 find_element 함수로 해당 요소를 찾아 click() 함수를 호출해 클릭한다."
      ],
      "metadata": {
        "id": "fphqDKDPkx0A"
      }
    },
    {
      "cell_type": "code",
      "source": [
        "blog = driver.find_element(By.XPATH, '//*[@id=\"rso\"]/div[1]/div/div[1]/div/a/h3')\n",
        "blog.click()"
      ],
      "metadata": {
        "id": "k20wKGyFle12"
      },
      "execution_count": 16,
      "outputs": []
    },
    {
      "cell_type": "markdown",
      "source": [
        "위 코드를 실행하면 아래처럼 내 블로그에 방문하게 된다.\n",
        "\n",
        "<img width=\"1624\" alt=\"스크린샷 2022-03-18 오전 10 17 41\" src=\"https://user-images.githubusercontent.com/76269316/158919083-ee8ec231-436c-498c-8abe-a6c5885bc524.png\">\n"
      ],
      "metadata": {
        "id": "ecBs_cYmmNhN"
      }
    },
    {
      "cell_type": "markdown",
      "source": [
        "##### Drag and Drop\n",
        "\n",
        "어떤 동작을 수행하기 위해서는 ActionChains를 사용하면 된다. <br>\n",
        "source 요소에서 target 요소로 Drag & Drop을 수행하는 코드는 다음과 같다."
      ],
      "metadata": {
        "id": "drmKUTk1mc8E"
      }
    },
    {
      "cell_type": "code",
      "source": [
        "from selenium.webdriver import ActionChains\n",
        "\n",
        "action_chains = ActionChains(driver)\n",
        "action_chains.drag_and_drop(source, target).perform()"
      ],
      "metadata": {
        "id": "g7Lq-W0WnIUf"
      },
      "execution_count": null,
      "outputs": []
    },
    {
      "cell_type": "markdown",
      "source": [
        "##### Window / Frame 이동\n",
        "\n",
        "최신 웹 페이지에서는 반응형으로 구현하는 경우가 많아 프레임을 잘 사용하지 않지만, 예전에 만들어진 사이트의 경우 frame을 사용한 사이트들이 종종 있다. <br>\n",
        "이렇게 프레임 안에 들어있는 요소는 find_element 함수를 통해서는 찾을 수 없고, 해당 프레임으로 이동해야 한다."
      ],
      "metadata": {
        "id": "ithC_SMgnaQM"
      }
    },
    {
      "cell_type": "markdown",
      "source": [
        "```\n",
        "driver.switch_to_frame(\"frameName\")\n",
        "driver.switch_to_window(\"windowName\")\n",
        "\n",
        "# frame 내 subframe으로도 접근이 가능하다. 점(.)을 쓰자.\n",
        "driver.switch_to_frame(\"frameName.0.child\")\n",
        "```"
      ],
      "metadata": {
        "id": "0PAnOyqNngCA"
      }
    },
    {
      "cell_type": "markdown",
      "source": [
        "프레임 밖으로 나가려면 아래 코드를 사용하면 기본 프레임으로 돌아간다."
      ],
      "metadata": {
        "id": "nw7lqXbko9e9"
      }
    },
    {
      "cell_type": "markdown",
      "source": [
        "```\n",
        "driver.switch_to_default_content()\n",
        "```"
      ],
      "metadata": {
        "id": "wAn_mhROpAop"
      }
    },
    {
      "cell_type": "markdown",
      "source": [
        "윈도우 이름을 알고 싶다면 다음과 같은 코드에서 target에 해당하는 windowName을 사용하면 된다.\n",
        "\n",
        "```\n",
        "<a href=\"somewhere.html\" target=\"windowName\">Click here to open a new window</a>\n",
        "```"
      ],
      "metadata": {
        "id": "VbODopi_oBpl"
      }
    },
    {
      "cell_type": "markdown",
      "source": [
        "또한 웹 드라이버는 윈도우 리스트에 접근할 수 있으므로 다음과 같이 모든 윈도우를 순회하는 것도 가능하다."
      ],
      "metadata": {
        "id": "GKSvXunNoxfG"
      }
    },
    {
      "cell_type": "markdown",
      "source": [
        "```\n",
        "for handle in driver.window_handles:\n",
        "    driver.switch_to_window(handle)\n",
        "```"
      ],
      "metadata": {
        "id": "1F7E2vkGo5C-"
      }
    },
    {
      "cell_type": "markdown",
      "source": [
        "##### Alert"
      ],
      "metadata": {
        "id": "xTceVTLIpMq_"
      }
    },
    {
      "cell_type": "markdown",
      "source": [
        "브라우저를 사용하다보면 아래와 같이 확인, 취소 같은 경고창이 뜰 때가 있는데, 윈도우나 프레임 뿐만 아니라 경고창으로 이동할 수도 있다.\n",
        "\n",
        "<img width=\"1624\" alt=\"스크린샷 2022-03-18 오전 10 40 18\" src=\"https://user-images.githubusercontent.com/76269316/158921159-1bfefe47-d43b-4447-bf9a-68e57e768dcb.png\">\n"
      ],
      "metadata": {
        "id": "rTsI6gxao6pg"
      }
    },
    {
      "cell_type": "code",
      "source": [
        "alert = driver.switch_to.alert"
      ],
      "metadata": {
        "id": "Cfps2YeGpDhD"
      },
      "execution_count": null,
      "outputs": []
    },
    {
      "cell_type": "markdown",
      "source": [
        "아래 코드를 통해 경고창에서 수락/거절을 누르거나, 경고창의 내용을 출력, 혹은 경고창에 특정 키 입력을 할 수 있다."
      ],
      "metadata": {
        "id": "W7cutnzCpSKp"
      }
    },
    {
      "cell_type": "code",
      "source": [
        "from selenium.webdriver.common.alert import Alert\n",
        "\n",
        "Alert(driver).accept()  # 수락\n",
        "Alert(driver).dismiss()  # 거절\n",
        "\n",
        "print(Alert(driver).text)  # 경고창 내용 출력\n",
        "Alert(driver).send_keys(keysToSend=Keys.ESCAPE)  # 경고창에 키 입력"
      ],
      "metadata": {
        "id": "apthv3-Apws8"
      },
      "execution_count": null,
      "outputs": []
    },
    {
      "cell_type": "markdown",
      "source": [
        "##### JavaScript 코드 실행\n",
        "driver.execute_script() 함수를 통해 자바 스크립트 코드를 실행할 수 있다.\n",
        "아래는 Name이 search_box인 요소 값을 query 값으로 변경하는 코드이다."
      ],
      "metadata": {
        "id": "XmuJqotop7g7"
      }
    },
    {
      "cell_type": "markdown",
      "source": [
        "```\n",
        "driver.execute_script(\"document.getElementsByName('id')[0].value=\\'\"+query+\"\\'\")\n",
        "```"
      ],
      "metadata": {
        "id": "TVWNIAU0qIaj"
      }
    },
    {
      "cell_type": "markdown",
      "source": [
        "##### Browser\n",
        "브라우저 창 다루기"
      ],
      "metadata": {
        "id": "cfjQtoWFqXAi"
      }
    },
    {
      "cell_type": "markdown",
      "source": [
        "**뒤로가기, 앞으로 가기**"
      ],
      "metadata": {
        "id": "R0DivIRJqbeY"
      }
    },
    {
      "cell_type": "code",
      "source": [
        "driver.forward()\n",
        "driver.back()"
      ],
      "metadata": {
        "id": "VDIhOuTTqgkQ"
      },
      "execution_count": 17,
      "outputs": []
    },
    {
      "cell_type": "markdown",
      "source": [
        "**아래로 내려가기** <br><br>\n",
        "아래 코드를 실행하면 현재 로드된 웹페이지의 맨 밑으로 내려간다."
      ],
      "metadata": {
        "id": "lQ8_wY7Et1Uh"
      }
    },
    {
      "cell_type": "code",
      "source": [
        "driver.execute_script('window.scrollTo(0, document.body.scrollHeight);')"
      ],
      "metadata": {
        "id": "1Xg8tr53qlG8"
      },
      "execution_count": 18,
      "outputs": []
    },
    {
      "cell_type": "markdown",
      "source": [
        "**무한 스크롤에서 아래로 내려가기** <br><br>\n",
        "왓챠피디아 리뷰 페이지는 무한 스크롤이라고 부르는 방식이라 스크롤을 내릴 때마다 새로운 리뷰들이 로드된다. <br>\n",
        "무한 스크롤의 경우 위 코드를 실행해 현재까지 로드된 맨 아래로 이동한 뒤, 새로운 요소들이 로드되면 다시 맨 아래로 로드한다. <br>\n",
        "맨 아래로 이동하면서 height 값을 저장한 뒤, 더 이상 height 값이 변하지 않을 때 즉, 스크롤이 끝났을 때 종료한다."
      ],
      "metadata": {
        "id": "wG4GZrumqjFy"
      }
    },
    {
      "cell_type": "code",
      "source": [
        "url = 'https://pedia.watcha.com/ko-KR/contents/mOVP23Z/comments'\n",
        "driver.get(url)\n",
        "\n",
        "scroll_pane_height = driver.execute_script('return document.documentElement.scrollHeight')\n",
        "\n",
        "while True:\n",
        "    driver.execute_script('window.scrollTo(0, document.documentElement.scrollHeight)')\n",
        "    time.sleep(1)\n",
        "    new_scroll_pane_height = driver.execute_script('return document.documentElement.scrollHeight')\n",
        "    print(scroll_pane_height, new_scroll_pane_height)\n",
        "\n",
        "    if scroll_pane_height == new_scroll_pane_height:\n",
        "        break\n",
        "\n",
        "    scroll_pane_height = new_scroll_pane_height"
      ],
      "metadata": {
        "colab": {
          "base_uri": "https://localhost:8080/"
        },
        "id": "kQDZ5mMNt5cH",
        "outputId": "39274ee9-dbcb-4b87-e6b8-240614ba60ff"
      },
      "execution_count": 19,
      "outputs": [
        {
          "output_type": "stream",
          "name": "stdout",
          "text": [
            "872 981\n",
            "981 1847\n",
            "1847 2528\n",
            "2528 3233\n",
            "3233 4274\n",
            "4274 5171\n",
            "5171 6020\n",
            "6020 6020\n"
          ]
        }
      ]
    },
    {
      "cell_type": "markdown",
      "source": [
        "**브라우저 최소화/최대화**\n"
      ],
      "metadata": {
        "id": "HcAt8zoQuYpY"
      }
    },
    {
      "cell_type": "code",
      "source": [
        "driver.minimize_window()\n",
        "driver.maximize_window()"
      ],
      "metadata": {
        "id": "uavSmNgRuwXt"
      },
      "execution_count": 20,
      "outputs": []
    },
    {
      "cell_type": "markdown",
      "source": [
        "**스크린샷 저장**"
      ],
      "metadata": {
        "id": "R7gOjRc_u0s8"
      }
    },
    {
      "cell_type": "code",
      "source": [
        "driver.save_screenshot('screenshot.png')"
      ],
      "metadata": {
        "colab": {
          "base_uri": "https://localhost:8080/"
        },
        "id": "03s2SHUGu-Bk",
        "outputId": "554ff440-5499-4a89-d2e0-5d1eabfc8e86"
      },
      "execution_count": 21,
      "outputs": [
        {
          "output_type": "execute_result",
          "data": {
            "text/plain": [
              "True"
            ]
          },
          "metadata": {},
          "execution_count": 21
        }
      ]
    },
    {
      "cell_type": "markdown",
      "source": [
        "### 9.ActionChains\n",
        "\n",
        "마우스, 키보드 입력 등 연속 동작 실행"
      ],
      "metadata": {
        "id": "q1NAc5_0wWw3"
      }
    },
    {
      "cell_type": "code",
      "source": [
        "from selenium.webdriver import ActionChains\n",
        "\n",
        "menu = driver.find_element(By.CSS_SELECTOR, '.nav')\n",
        "hidden_submenu = driver.find_element(By.CSS_SELECTOR, '.nav #submenu1')\n",
        "\n",
        "ActionChains(driver).move_to_element(menu).click(hidden_submenu).perform()"
      ],
      "metadata": {
        "id": "zfZ6tZrzwcpX"
      },
      "execution_count": null,
      "outputs": []
    },
    {
      "cell_type": "markdown",
      "source": [
        "```\n",
        "# 위 한 줄은 아래와 같은 동작을 수행한다.\n",
        "actions = ActionChains(driver)\n",
        "actions.move_to_element(menu)\n",
        "actions.click(hidden_submenu)\n",
        "actions.perform()\n",
        "```"
      ],
      "metadata": {
        "id": "f46jnR1uw9MI"
      }
    },
    {
      "cell_type": "markdown",
      "source": [
        "마우스 클릭, Drag & Drop, 키보드 입력 등을 연속적으로 수행할 수 있다.\n",
        "- on_element 인자를 받는 함수는 인자가 주어지지 않을 경우 현재 마우스 위치를 기준으로 한다.\n",
        "- element 인자를 받는 함수는 해당 인자가 주어지지 않으면 현재 선택돼 있는 요소를 기준으로 한다.\n",
        "- key_down, key_up 함수는 ctrl 등의 키를 누를 때 사용한다.\n",
        "\n",
        "```\n",
        "# Ctrl + C\n",
        "ActionChains(driver).key_down(Keys.CONTROL).send_keys('c').key_up(Keys.CONTROL).perform()\n",
        "```"
      ],
      "metadata": {
        "id": "vAPAzB8Tw-Sr"
      }
    },
    {
      "cell_type": "markdown",
      "source": [
        "<img width=\"1087\" alt=\"스크린샷 2022-03-18 오전 11 05 40\" src=\"https://user-images.githubusercontent.com/76269316/158923623-41b0c156-3628-4be3-8994-b6b00a6b214f.png\">\n"
      ],
      "metadata": {
        "id": "OwzNhq5xxR9V"
      }
    }
  ]
}